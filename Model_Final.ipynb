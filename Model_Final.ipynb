{
 "cells": [
  {
   "cell_type": "code",
   "execution_count": 1,
   "metadata": {},
   "outputs": [],
   "source": [
    "import pandas as pd\n",
    "import matplotlib.pyplot as plt\n",
    "import tensorflow as tf\n",
    "import keras\n",
    "from sklearn.preprocessing import LabelEncoder\n",
    "from sklearn.model_selection import train_test_split\n",
    "import numpy as np\n",
    "import seaborn as sns\n",
    "from tensorflow.keras.preprocessing.text import Tokenizer\n",
    "from tensorflow.keras.preprocessing.sequence import pad_sequences\n",
    "from tensorflow.keras.layers import Embedding, Dense, LSTM, Bidirectional\n",
    "from sklearn.metrics import confusion_matrix, classification_report"
   ]
  },
  {
   "cell_type": "code",
   "execution_count": 2,
   "metadata": {},
   "outputs": [
    {
     "data": {
      "text/html": [
       "<div>\n",
       "<style scoped>\n",
       "    .dataframe tbody tr th:only-of-type {\n",
       "        vertical-align: middle;\n",
       "    }\n",
       "\n",
       "    .dataframe tbody tr th {\n",
       "        vertical-align: top;\n",
       "    }\n",
       "\n",
       "    .dataframe thead th {\n",
       "        text-align: right;\n",
       "    }\n",
       "</style>\n",
       "<table border=\"1\" class=\"dataframe\">\n",
       "  <thead>\n",
       "    <tr style=\"text-align: right;\">\n",
       "      <th></th>\n",
       "      <th>Unnamed: 0</th>\n",
       "      <th>tweet</th>\n",
       "      <th>label</th>\n",
       "      <th>Tokenize</th>\n",
       "      <th>Wordlist</th>\n",
       "      <th>Stemming</th>\n",
       "      <th>abai</th>\n",
       "      <th>aborsi</th>\n",
       "      <th>adab</th>\n",
       "      <th>adik</th>\n",
       "      <th>...</th>\n",
       "      <th>usap</th>\n",
       "      <th>usia</th>\n",
       "      <th>verbal</th>\n",
       "      <th>victim</th>\n",
       "      <th>video</th>\n",
       "      <th>viral</th>\n",
       "      <th>vonis</th>\n",
       "      <th>wanita</th>\n",
       "      <th>warga</th>\n",
       "      <th>waspada</th>\n",
       "    </tr>\n",
       "  </thead>\n",
       "  <tbody>\n",
       "    <tr>\n",
       "      <th>0</th>\n",
       "      <td>0</td>\n",
       "      <td>kalo cewe jual video syur cepet banget nangkep...</td>\n",
       "      <td>not urgent</td>\n",
       "      <td>['kalo', 'cewe', 'jual', 'video', 'syur', 'cep...</td>\n",
       "      <td>['cewe', 'jual', 'video', 'syur', 'nangkepnya'...</td>\n",
       "      <td>cewek jual video syur tangkap cowok laku keras...</td>\n",
       "      <td>0.0</td>\n",
       "      <td>0.0</td>\n",
       "      <td>0.0</td>\n",
       "      <td>0.0</td>\n",
       "      <td>...</td>\n",
       "      <td>0.0</td>\n",
       "      <td>0.0</td>\n",
       "      <td>0.0</td>\n",
       "      <td>0.0</td>\n",
       "      <td>0.362223</td>\n",
       "      <td>0.0</td>\n",
       "      <td>0.0</td>\n",
       "      <td>0.0</td>\n",
       "      <td>0.0</td>\n",
       "      <td>0.0</td>\n",
       "    </tr>\n",
       "    <tr>\n",
       "      <th>1</th>\n",
       "      <td>1</td>\n",
       "      <td>adalah penyintas korban percobaan kekerasan s...</td>\n",
       "      <td>urgent</td>\n",
       "      <td>['adalah', 'penyintas', 'korban', 'percobaan',...</td>\n",
       "      <td>['penyintas', 'korban', 'percobaan', 'kekerasa...</td>\n",
       "      <td>sintas korban coba keras seksual hasil lari ak...</td>\n",
       "      <td>0.0</td>\n",
       "      <td>0.0</td>\n",
       "      <td>0.0</td>\n",
       "      <td>0.0</td>\n",
       "      <td>...</td>\n",
       "      <td>0.0</td>\n",
       "      <td>0.0</td>\n",
       "      <td>0.0</td>\n",
       "      <td>0.0</td>\n",
       "      <td>0.000000</td>\n",
       "      <td>0.0</td>\n",
       "      <td>0.0</td>\n",
       "      <td>0.0</td>\n",
       "      <td>0.0</td>\n",
       "      <td>0.0</td>\n",
       "    </tr>\n",
       "    <tr>\n",
       "      <th>2</th>\n",
       "      <td>2</td>\n",
       "      <td>uu tpks udah bisa digunakan buat menjerat pela...</td>\n",
       "      <td>not urgent</td>\n",
       "      <td>['uu', 'tpks', 'udah', 'bisa', 'digunakan', 'b...</td>\n",
       "      <td>['menjerat', 'pelaku', 'kekerasan', 'seksual',...</td>\n",
       "      <td>jerat laku keras seksual baca ingat jadi laku ...</td>\n",
       "      <td>0.0</td>\n",
       "      <td>0.0</td>\n",
       "      <td>0.0</td>\n",
       "      <td>0.0</td>\n",
       "      <td>...</td>\n",
       "      <td>0.0</td>\n",
       "      <td>0.0</td>\n",
       "      <td>0.0</td>\n",
       "      <td>0.0</td>\n",
       "      <td>0.000000</td>\n",
       "      <td>0.0</td>\n",
       "      <td>0.0</td>\n",
       "      <td>0.0</td>\n",
       "      <td>0.0</td>\n",
       "      <td>0.0</td>\n",
       "    </tr>\n",
       "    <tr>\n",
       "      <th>3</th>\n",
       "      <td>3</td>\n",
       "      <td>gak heran banyak anak yang diam ketika mengala...</td>\n",
       "      <td>not urgent</td>\n",
       "      <td>['gak', 'heran', 'banyak', 'anak', 'yang', 'di...</td>\n",
       "      <td>['heran', 'anak', 'diam', 'mengalami', 'seksua...</td>\n",
       "      <td>heran anak diam alami seksual orang tua bilang...</td>\n",
       "      <td>0.0</td>\n",
       "      <td>0.0</td>\n",
       "      <td>0.0</td>\n",
       "      <td>0.0</td>\n",
       "      <td>...</td>\n",
       "      <td>0.0</td>\n",
       "      <td>0.0</td>\n",
       "      <td>0.0</td>\n",
       "      <td>0.0</td>\n",
       "      <td>0.000000</td>\n",
       "      <td>0.0</td>\n",
       "      <td>0.0</td>\n",
       "      <td>0.0</td>\n",
       "      <td>0.0</td>\n",
       "      <td>0.0</td>\n",
       "    </tr>\n",
       "    <tr>\n",
       "      <th>4</th>\n",
       "      <td>4</td>\n",
       "      <td>sama kaya di kampus saya korban pelecehan seks...</td>\n",
       "      <td>not urgent</td>\n",
       "      <td>['sama', 'kaya', 'di', 'kampus', 'saya', 'korb...</td>\n",
       "      <td>['kampus', 'korban', 'pelecehan', 'seksual', '...</td>\n",
       "      <td>kampus korban leceh seksual sanksi layan akade...</td>\n",
       "      <td>0.0</td>\n",
       "      <td>0.0</td>\n",
       "      <td>0.0</td>\n",
       "      <td>0.0</td>\n",
       "      <td>...</td>\n",
       "      <td>0.0</td>\n",
       "      <td>0.0</td>\n",
       "      <td>0.0</td>\n",
       "      <td>0.0</td>\n",
       "      <td>0.000000</td>\n",
       "      <td>0.0</td>\n",
       "      <td>0.0</td>\n",
       "      <td>0.0</td>\n",
       "      <td>0.0</td>\n",
       "      <td>0.0</td>\n",
       "    </tr>\n",
       "  </tbody>\n",
       "</table>\n",
       "<p>5 rows × 603 columns</p>\n",
       "</div>"
      ],
      "text/plain": [
       "   Unnamed: 0                                              tweet       label  \\\n",
       "0           0  kalo cewe jual video syur cepet banget nangkep...  not urgent   \n",
       "1           1   adalah penyintas korban percobaan kekerasan s...      urgent   \n",
       "2           2  uu tpks udah bisa digunakan buat menjerat pela...  not urgent   \n",
       "3           3  gak heran banyak anak yang diam ketika mengala...  not urgent   \n",
       "4           4  sama kaya di kampus saya korban pelecehan seks...  not urgent   \n",
       "\n",
       "                                            Tokenize  \\\n",
       "0  ['kalo', 'cewe', 'jual', 'video', 'syur', 'cep...   \n",
       "1  ['adalah', 'penyintas', 'korban', 'percobaan',...   \n",
       "2  ['uu', 'tpks', 'udah', 'bisa', 'digunakan', 'b...   \n",
       "3  ['gak', 'heran', 'banyak', 'anak', 'yang', 'di...   \n",
       "4  ['sama', 'kaya', 'di', 'kampus', 'saya', 'korb...   \n",
       "\n",
       "                                            Wordlist  \\\n",
       "0  ['cewe', 'jual', 'video', 'syur', 'nangkepnya'...   \n",
       "1  ['penyintas', 'korban', 'percobaan', 'kekerasa...   \n",
       "2  ['menjerat', 'pelaku', 'kekerasan', 'seksual',...   \n",
       "3  ['heran', 'anak', 'diam', 'mengalami', 'seksua...   \n",
       "4  ['kampus', 'korban', 'pelecehan', 'seksual', '...   \n",
       "\n",
       "                                            Stemming  abai  aborsi  adab  \\\n",
       "0  cewek jual video syur tangkap cowok laku keras...   0.0     0.0   0.0   \n",
       "1  sintas korban coba keras seksual hasil lari ak...   0.0     0.0   0.0   \n",
       "2  jerat laku keras seksual baca ingat jadi laku ...   0.0     0.0   0.0   \n",
       "3  heran anak diam alami seksual orang tua bilang...   0.0     0.0   0.0   \n",
       "4  kampus korban leceh seksual sanksi layan akade...   0.0     0.0   0.0   \n",
       "\n",
       "   adik  ...  usap  usia  verbal  victim     video  viral  vonis  wanita  \\\n",
       "0   0.0  ...   0.0   0.0     0.0     0.0  0.362223    0.0    0.0     0.0   \n",
       "1   0.0  ...   0.0   0.0     0.0     0.0  0.000000    0.0    0.0     0.0   \n",
       "2   0.0  ...   0.0   0.0     0.0     0.0  0.000000    0.0    0.0     0.0   \n",
       "3   0.0  ...   0.0   0.0     0.0     0.0  0.000000    0.0    0.0     0.0   \n",
       "4   0.0  ...   0.0   0.0     0.0     0.0  0.000000    0.0    0.0     0.0   \n",
       "\n",
       "   warga  waspada  \n",
       "0    0.0      0.0  \n",
       "1    0.0      0.0  \n",
       "2    0.0      0.0  \n",
       "3    0.0      0.0  \n",
       "4    0.0      0.0  \n",
       "\n",
       "[5 rows x 603 columns]"
      ]
     },
     "execution_count": 2,
     "metadata": {},
     "output_type": "execute_result"
    }
   ],
   "source": [
    "df = pd.read_csv('dtutf_idf_dari_dilla.csv')\n",
    "df.head()"
   ]
  },
  {
   "cell_type": "code",
   "execution_count": 3,
   "metadata": {},
   "outputs": [],
   "source": [
    "df.drop('Unnamed: 0', axis = 1, inplace = True)"
   ]
  },
  {
   "cell_type": "code",
   "execution_count": 4,
   "metadata": {
    "scrolled": true
   },
   "outputs": [
    {
     "data": {
      "text/plain": [
       "0      cewek jual video syur tangkap cowok laku keras...\n",
       "1      sintas korban coba keras seksual hasil lari ak...\n",
       "2      jerat laku keras seksual baca ingat jadi laku ...\n",
       "3      heran anak diam alami seksual orang tua bilang...\n",
       "4      kampus korban leceh seksual sanksi layan akade...\n",
       "                             ...                        \n",
       "100    bingung tanggap aborsi risiko anak telantar al...\n",
       "101    vonis hukum mati laku perkosa anak perempuan h...\n",
       "102                                   keras seksual anak\n",
       "103    benar sekali benci laku keras hilang nyawa man...\n",
       "104    silah cek tingkat keras anak perempuan nikah u...\n",
       "Name: Stemming, Length: 105, dtype: object"
      ]
     },
     "execution_count": 4,
     "metadata": {},
     "output_type": "execute_result"
    }
   ],
   "source": [
    "#X = df.iloc[0]\n",
    "X = df.iloc[:, 4]\n",
    "X"
   ]
  },
  {
   "cell_type": "code",
   "execution_count": 5,
   "metadata": {},
   "outputs": [
    {
     "data": {
      "text/plain": [
       "0      cewek jual video syur tangkap cowok laku keras...\n",
       "1      sintas korban coba keras seksual hasil lari ak...\n",
       "2      jerat laku keras seksual baca ingat jadi laku ...\n",
       "3      heran anak diam alami seksual orang tua bilang...\n",
       "4      kampus korban leceh seksual sanksi layan akade...\n",
       "                             ...                        \n",
       "100    bingung tanggap aborsi risiko anak telantar al...\n",
       "101    vonis hukum mati laku perkosa anak perempuan h...\n",
       "102                                   keras seksual anak\n",
       "103    benar sekali benci laku keras hilang nyawa man...\n",
       "104    silah cek tingkat keras anak perempuan nikah u...\n",
       "Name: Stemming, Length: 105, dtype: object"
      ]
     },
     "execution_count": 5,
     "metadata": {},
     "output_type": "execute_result"
    }
   ],
   "source": [
    "df.iloc[:,4]"
   ]
  },
  {
   "cell_type": "code",
   "execution_count": 6,
   "metadata": {
    "scrolled": false
   },
   "outputs": [],
   "source": [
    "#X = np.asarray(X).astype(np.float32)"
   ]
  },
  {
   "cell_type": "code",
   "execution_count": 7,
   "metadata": {},
   "outputs": [],
   "source": [
    "dt = df.copy()\n",
    "\n",
    "#Mengambil kalimat\n",
    "kalimat = dt.Stemming.values.tolist()\n",
    "kalimat_training = kalimat[0:95]\n",
    "kalimat_testing = kalimat[95:]"
   ]
  },
  {
   "cell_type": "code",
   "execution_count": 8,
   "metadata": {},
   "outputs": [],
   "source": [
    "label = df.iloc[0: , 1]"
   ]
  },
  {
   "cell_type": "code",
   "execution_count": 9,
   "metadata": {},
   "outputs": [
    {
     "name": "stdout",
     "output_type": "stream",
     "text": [
      "['not urgent', 'urgent', 'not urgent', 'not urgent', 'not urgent', 'not urgent', 'urgent', 'not urgent', 'urgent', 'not urgent', 'urgent', 'not urgent', 'not urgent', 'urgent', 'urgent', 'urgent', 'urgent', 'urgent', 'not urgent', 'urgent', 'not urgent', 'urgent', 'urgent', 'not urgent', 'urgent', 'not urgent', 'urgent', 'not urgent', 'urgent', 'urgent', 'not urgent', 'urgent', 'not urgent', 'urgent', 'not urgent', 'not urgent', 'urgent', 'not urgent', 'urgent', 'urgent', 'not urgent', 'not urgent', 'urgent', 'not urgent', 'urgent', 'not urgent', 'not urgent', 'not urgent', 'not urgent', 'not urgent', 'not urgent', 'urgent', 'urgent', 'urgent', 'urgent', 'not urgent', 'urgent', 'urgent', 'not urgent', 'not urgent', 'not urgent', 'not urgent', 'urgent', 'not urgent', 'not urgent', 'not urgent', 'urgent', 'urgent', 'urgent', 'urgent', 'urgent', 'not urgent', 'not urgent', 'not urgent', 'not urgent', 'not urgent', 'not urgent', 'not urgent', 'not urgent', 'not urgent', 'not urgent', 'urgent', 'urgent', 'not urgent', 'urgent', 'urgent', 'urgent', 'urgent', 'urgent', 'not urgent', 'urgent', 'urgent', 'urgent', 'urgent', 'urgent', 'urgent', 'urgent', 'not urgent', 'not urgent', 'urgent', 'not urgent', 'urgent', 'urgent', 'urgent', 'not urgent']\n"
     ]
    }
   ],
   "source": [
    "label = label.tolist()\n",
    "print(label)"
   ]
  },
  {
   "cell_type": "code",
   "execution_count": 10,
   "metadata": {},
   "outputs": [],
   "source": [
    "vocab_size = 300\n",
    "max_length = 150\n",
    "embed_dim = 30\n",
    "trunc_type = 'post'\n",
    "oov_tok = \"<OOv>\""
   ]
  },
  {
   "cell_type": "markdown",
   "metadata": {},
   "source": [
    "# Kalimat Training"
   ]
  },
  {
   "cell_type": "code",
   "execution_count": 11,
   "metadata": {},
   "outputs": [
    {
     "name": "stdout",
     "output_type": "stream",
     "text": [
      "Panjang kata di word index : 547\n",
      "Word index : {'<OOv>': 1, 'leceh': 2, 'seksual': 3, 'korban': 4, 'laku': 5, 'wanita': 6, 'salah': 7, 'pakai': 8, 'cerita': 9, 'orang': 10, 'perempuan': 11, 'trauma': 12, 'jadi': 13, 'kayak': 14, 'baju': 15, 'perkosa': 16, 'cewek': 17, 'keras': 18, 'duga': 19, 'tolak': 20, 'tutup': 21, 'teman': 22, 'baca': 23, 'anggap': 24, 'malam': 25, 'takut': 26, 'lapor': 27, 'pikir': 28, 'tindak': 29, 'kasih': 30, 'cowok': 31, 'alami': 32, 'bilang': 33, 'laki': 34, 'buka': 35, 'kena': 36, 'kantor': 37, 'bikin': 38, 'nikah': 39, 'moga': 40, 'pria': 41, 'aurat': 42, 'pukul': 43, 'tidak': 44, 'kakak': 45, 'anak': 46, 'tua': 47, 'kampus': 48, 'kenal': 49, 'badan': 50, 'nama': 51, 'bela': 52, 'sakit': 53, 'gimana': 54, 'kasar': 55, 'main': 56, 'nafsu': 57, 'buat': 58, 'parah': 59, 'maju': 60, 'coba': 61, 'hasil': 62, 'ingat': 63, 'miris': 64, 'diam': 65, 'dunia': 66, 'ajak': 67, 'temu': 68, 'lucu': 69, 'syok': 70, 'beku': 71, 'satu': 72, 'pake': 73, 'bawa': 74, 'verbal': 75, 'oknum': 76, 'kaki': 77, 'coli': 78, 'ancam': 79, 'masyarakat': 80, 'gerak': 81, 'beliau': 82, 'celana': 83, 'jalan': 84, 'habis': 85, 'lihat': 86, 'untung': 87, 'benar': 88, 'jamin': 89, 'suruh': 90, 'guna': 91, 'normal': 92, 'spontan': 93, 'manusia': 94, 'hukum': 95, 'susah': 96, 'bicara': 97, 'malu': 98, 'iya': 99, 'maaf': 100, 'pisau': 101, 'milik': 102, 'hitam': 103, 'tangkap': 104, 'lari': 105, 'aksi': 106, 'atur': 107, 'layan': 108, 'pulih': 109, 'sanksi': 110, 'alas': 111, 'berani': 112, 'adik': 113, 'anjing': 114, 'alam': 115, 'peluk': 116, 'posisi': 117, 'remas': 118, 'payudara': 119, 'panik': 120, 'liat': 121, 'langsung': 122, 'biadab': 123, 'jahat': 124, 'sengaja': 125, 'berita': 126, 'cewe': 127, 'aku': 128, 'tangan': 129, 'asli': 130, 'paha': 131, 'lantas': 132, 'pergi': 133, 'putih': 134, 'bunuh': 135, 'hidup': 136, 'bukti': 137, 'gila': 138, 'ruang': 139, 'publik': 140, 'pidana': 141, 'seks': 142, 'dasar': 143, 'nampak': 144, 'putus': 145, 'cium': 146, 'tidur': 147, 'ajar': 148, 'cegah': 149, 'tampar': 150, 'aja': 151, 'maksa': 152, 'dukung': 153, 'singkat': 154, 'otak': 155, 'ketemu': 156, 'lepas': 157, 'nang': 158, 'lindung': 159, 'terima': 160, 'kali': 161, 'titit': 162, 'tahan': 163, 'tanggung': 164, 'nyata': 165, 'sadar': 166, 'buli': 167, 'contoh': 168, 'teriak': 169, 'tolong': 170, 'rumah': 171, 'kasus': 172, 'minor': 173, 'gara': 174, 'masuk': 175, 'toilet': 176, 'adil': 177, 'bisa': 178, 'sangka': 179, 'serang': 180, 'culik': 181, 'berangkat': 182, 'kerja': 183, 'todong': 184, 'mobil': 185, 'damai': 186, 'percaya': 187, 'tampil': 188, 'agama': 189, 'tetap': 190, 'syar': 191, 'tanggap': 192, 'viral': 193, 'terminal': 194, 'pegawai': 195, 'cuman': 196, 'jari': 197, 'ranah': 198, 'prasyarat': 199, 'mesir': 200, 'ekonomi': 201, 'kaum': 202, 'hak': 203, 'jual': 204, 'video': 205, 'syur': 206, 'koruptor': 207, 'proses': 208, 'sintas': 209, 'bejat': 210, 'jerat': 211, 'heran': 212, 'harmonis': 213, 'tinggal': 214, 'berhala': 215, 'akademik': 216, 'keluarga': 217, 'goda': 218, 'olok': 219, 'brutal': 220, 'stasiun': 221, 'kereta': 222, 'tindakan': 223, 'curiga': 224, 'omong': 225, 'kunci': 226, 'kolot': 227, 'label': 228, 'biasa': 229, 'judgemental': 230, 'lumrah': 231, 'suka': 232, 'gender': 233, 'usia': 234, 'pantas': 235, 'lontar': 236, 'kolom': 237, 'seragam': 238, 'sekolah': 239, 'longgar': 240, 'berontak': 241, 'isi': 242, 'ungkap': 243, 'pelecehan': 244, 'inap': 245, 'elus': 246, 'gambar': 247, 'momen': 248, 'dorong': 249, 'selip': 250, 'ketiak': 251, 'dua': 252, 'tiru': 253, 'ucap': 254, 'pribadi': 255, 'klaim': 256, 'non': 257, 'rem': 258, 'universitas': 259, 'cuat': 260, 'mahasiwa': 261, 'elemen': 262, 'geruduk': 263, 'kamis': 264, 'modus': 265, 'pijat': 266, 'pasang': 267, 'naik': 268, 'atas': 269, 'mahasiswi': 270, 'ayah': 271, 'putri': 272, 'celetuk': 273, 'usap': 274, 'perut': 275, 'besok': 276, 'arwah': 277, 'barang': 278, 'privasi': 279, 'tuduh': 280, 'beri': 281, 'alkohol': 282, 'bujuk': 283, 'oral': 284, 'saksi': 285, 'latih': 286, 'aktivitas': 287, 'koar': 288, 'tali': 289, 'peduli': 290, 'ngaku': 291, 'bareng': 292, 'jaga': 293, 'tunduk': 294, 'pandang': 295, 'maki': 296, 'minta': 297, 'pipi': 298, 'sepele': 299, 'ketawa': 300, 'sange': 301, 'raba': 302, 'lorot': 303, 'resleting': 304, 'kata': 305, 'homo': 306, 'nongkrong': 307, 'pulang': 308, 'malem': 309, 'segitu': 310, 'ramai': 311, 'sepi': 312, 'kontol': 313, 'temen': 314, 'kira': 315, 'kesasar': 316, 'salip': 317, 'setelah': 318, 'pernah': 319, 'biadap': 320, 'nyaman': 321, 'jijik': 322, 'pacar': 323, 'online': 324, 'horny': 325, 'telpon': 326, 'nyuruh': 327, 'ngedesah': 328, 'ngebayangin': 329, 'omongin': 330, 'putusin': 331, 'bahas': 332, 'relevansi': 333, 'dalih': 334, 'undang': 335, 'seksi': 336, 'ban': 337, 'survei': 338, 'cadar': 339, 'siang': 340, 'bangkot': 341, 'kemeja': 342, 'ketat': 343, 'mata': 344, 'lapar': 345, 'pastiin': 346, 'situ': 347, 'harap': 348, 'jadiin': 349, 'punya': 350, 'keenakaan': 351, 'bawah': 352, 'simpang': 353, 'apa': 354, 'aman': 355, 'serah': 356, 'lampias': 357, 'balik': 358, 'himpun': 359, 'depresi': 360, 'organisasi': 361, 'bantu': 362, 'mulut': 363, 'lekas': 364, 'mental': 365, 'masjid': 366, 'mukena': 367, 'noel': 368, 'pantat': 369, 'kepung': 370, 'artikel': 371, 'kait': 372, 'objek': 373, 'masturbasi': 374, 'salur': 375, 'patut': 376, 'waspada': 377, 'jenis': 378, 'maya': 379, 'romantis': 380, 'minimal': 381, 'tegak': 382, 'angan': 383, 'bodoh': 384, 'perintah': 385, 'peran': 386, 'setuju': 387, 'pilih': 388, 'konsekuensi': 389, 'judge': 390, 'istilah': 391, 'lawan': 392, 'kapok': 393, 'muka': 394, 'identitas': 395, 'umur': 396, 'memek': 397, 'sayang': 398, 'dengar': 399, 'mini': 400, 'gabisa': 401, 'nahan': 402, 'sekitar': 403, 'boro': 404, 'seret': 405, 'gerbong': 406, 'embel': 407, 'siapa': 408, 'bentar': 409, 'dapat': 410, 'normalisasi': 411, 'ganteng': 412, 'tahun': 413, 'logis': 414, 'interaksi': 415, 'bebal': 416, 'ngomong': 417, 'bayang': 418, 'pamer': 419, 'bolong': 420, 'tahu': 421, 'asa': 422, 'lingkungan': 423, 'cemooh': 424, 'cari': 425, 'sensasi': 426, 'jangan': 427, 'betapa': 428, 'rentan': 429, 'luar': 430, 'kolega': 431, 'bebas': 432, 'kamar': 433, 'hotel': 434, 'ketuk': 435, 'istri': 436, 'bincang': 437, 'kondisi': 438, 'mabuk': 439, 'pokok': 440, 'tendang': 441, 'lolos': 442, 'senang': 443, 'besar': 444, 'jago': 445, 'kurus': 446, 'tipe': 447, 'sambung': 448, 'terang': 449, 'dalam': 450, 'asusila': 451, 'akibat': 452, 'berat': 453, 'sahabat': 454, 'resah': 455, 'serba': 456, 'lupa': 457, 'sentimental': 458, 'paham': 459, 'otomatis': 460, 'mereka': 461, 'nimbrung': 462, 'tambah': 463, 'dangkal': 464, 'manfaat': 465, 'tipu': 466, 'digital': 467, 'kuat': 468, 'daya': 469, 'sangkal': 470, 'peluang': 471, 'pakaian': 472, 'tebal': 473, 'sopan': 474, 'warga': 475, 'bau': 476, 'dayak': 477, 'polisi': 478, 'tunggu': 479, 'tuju': 480, 'statement': 481, 'simpul': 482, 'ukur': 483, 'cat': 484, 'calling': 485, 'kontrol': 486, 'hijab': 487, 'udah': 488, 'syariat': 489, 'hilang': 490, 'edukasi': 491, 'sexual': 492, 'harassment': 493, 'kacamata': 494, 'duduk': 495, 'pohon': 496, 'transportasi': 497, 'papar': 498, 'makelar': 499, 'merah': 500, 'injak': 501, 'refleks': 502, 'pegang': 503, 'kaget': 504, 'adab': 505, 'mungkin': 506, 'jarang': 507, 'respon': 508, 'cenderung': 509, 'timbul': 510, 'rata': 511, 'mesum': 512, 'media': 513, 'sosial': 514, 'rangsang': 515, 'foto': 516, 'sepak': 517, 'tanda': 518, 'klub': 519, 'posting': 520, 'lgbt': 521, 'silah': 522, 'jalur': 523, 'kebiri': 524, 'didik': 525, 'batas': 526, 'kain': 527, 'ujung': 528, 'minat': 529, 'banyak': 530, 'hitung': 531, 'tunjuk': 532, 'nenen': 533, 'grepe': 534, 'adu': 535, 'sebab': 536, 'lebam': 537, 'sabuk': 538, 'henti': 539, 'atensi': 540, 'kulit': 541, 'alih': 542, 'roti': 543, 'unggul': 544, 'sexist': 545, 'bidang': 546, 'tawa': 547}\n"
     ]
    }
   ],
   "source": [
    "#Lakukan inisialisasi tokenizing\n",
    "tokenizer = Tokenizer(num_words = vocab_size, oov_token = oov_tok)\n",
    "\n",
    "#Melakukan hasil inisialisasi tokenize pada kalimat\n",
    "tokenizer.fit_on_texts(kalimat_training)\n",
    "\n",
    "#Tampilkan panjang word index\n",
    "word_index = tokenizer.word_index\n",
    "print(f'Panjang kata di word index : {len(word_index)}')\n",
    "\n",
    "#Tampilkan word indedx\n",
    "print(f'Word index : {word_index}')"
   ]
  },
  {
   "cell_type": "code",
   "execution_count": 12,
   "metadata": {},
   "outputs": [
    {
     "data": {
      "text/plain": [
       "array([[  0,   0,   0, ...,   3, 207, 208],\n",
       "       [  0,   0,   0, ..., 105,   5,   9],\n",
       "       [  0,   0,   0, ..., 108, 109,  64],\n",
       "       ...,\n",
       "       [  0,   0,   0, ...,   1,  53,  50],\n",
       "       [  0,   0,   0, ..., 133,   1,  43],\n",
       "       [  0,   0,   0, ...,   1,   6,  16]])"
      ]
     },
     "execution_count": 12,
     "metadata": {},
     "output_type": "execute_result"
    }
   ],
   "source": [
    "#Generate daan pad the sequences\n",
    "sequences = tokenizer.texts_to_sequences(kalimat_training)\n",
    "padded = pad_sequences(sequences, maxlen = max_length, truncating = trunc_type)\n",
    "padded"
   ]
  },
  {
   "cell_type": "code",
   "execution_count": 13,
   "metadata": {
    "scrolled": false
   },
   "outputs": [
    {
     "name": "stdout",
     "output_type": "stream",
     "text": [
      "data sample teratas : jerat laku keras seksual baca ingat jadi laku korban atur tidak kakak layan pulih miris\n",
      "sequnces sample : [  0   0   0   0   0   0   0   0   0   0   0   0   0   0   0   0   0   0\n",
      "   0   0   0   0   0   0   0   0   0   0   0   0   0   0   0   0   0   0\n",
      "   0   0   0   0   0   0   0   0   0   0   0   0   0   0   0   0   0   0\n",
      "   0   0   0   0   0   0   0   0   0   0   0   0   0   0   0   0   0   0\n",
      "   0   0   0   0   0   0   0   0   0   0   0   0   0   0   0   0   0   0\n",
      "   0   0   0   0   0   0   0   0   0   0   0   0   0   0   0   0   0   0\n",
      "   0   0   0   0   0   0   0   0   0   0   0   0   0   0   0   0   0   0\n",
      "   0   0   0   0   0   0   0   0   0 211   5  18   3  23  63  13   5   4\n",
      " 107  44  45 108 109  64]\n"
     ]
    }
   ],
   "source": [
    "index = 2\n",
    "print(f'data sample teratas : {kalimat_training[index]}')\n",
    "print(f'sequnces sample : {padded[index]}')"
   ]
  },
  {
   "cell_type": "code",
   "execution_count": 14,
   "metadata": {},
   "outputs": [
    {
     "name": "stdout",
     "output_type": "stream",
     "text": [
      "Shape result : (95, 150)\n"
     ]
    }
   ],
   "source": [
    "print(f'Shape result : {padded.shape}')"
   ]
  },
  {
   "cell_type": "markdown",
   "metadata": {},
   "source": [
    "# Kalimat Testing"
   ]
  },
  {
   "cell_type": "code",
   "execution_count": 15,
   "metadata": {},
   "outputs": [],
   "source": [
    "testing_sequences = tokenizer.texts_to_sequences(kalimat_testing)\n",
    "testing_padded = pad_sequences(testing_sequences, maxlen = max_length)"
   ]
  },
  {
   "cell_type": "code",
   "execution_count": 16,
   "metadata": {},
   "outputs": [
    {
     "data": {
      "text/plain": [
       "(10, 150)"
      ]
     },
     "execution_count": 16,
     "metadata": {},
     "output_type": "execute_result"
    }
   ],
   "source": [
    "testing_padded.shape"
   ]
  },
  {
   "cell_type": "code",
   "execution_count": 17,
   "metadata": {},
   "outputs": [
    {
     "data": {
      "text/plain": [
       "array([0, 1, 0, 0, 0, 0, 1, 0, 1, 0, 1, 0, 0, 1, 1, 1, 1, 1, 0, 1, 0, 1,\n",
       "       1, 0, 1, 0, 1, 0, 1, 1, 0, 1, 0, 1, 0, 0, 1, 0, 1, 1, 0, 0, 1, 0,\n",
       "       1, 0, 0, 0, 0, 0, 0, 1, 1, 1, 1, 0, 1, 1, 0, 0, 0, 0, 1, 0, 0, 0,\n",
       "       1, 1, 1, 1, 1, 0, 0, 0, 0, 0, 0, 0, 0, 0, 0, 1, 1, 0, 1, 1, 1, 1,\n",
       "       1, 0, 1, 1, 1, 1, 1, 1, 1, 0, 0, 1, 0, 1, 1, 1, 0], dtype=int64)"
      ]
     },
     "execution_count": 17,
     "metadata": {},
     "output_type": "execute_result"
    }
   ],
   "source": [
    "labell_ = label.copy()\n",
    "#print(labell_)\n",
    "encoder = LabelEncoder()\n",
    "labell_ = encoder.fit_transform(labell_)\n",
    "labell_"
   ]
  },
  {
   "cell_type": "markdown",
   "metadata": {},
   "source": [
    "# Label"
   ]
  },
  {
   "cell_type": "code",
   "execution_count": 18,
   "metadata": {},
   "outputs": [],
   "source": [
    "label_final = np.array(labell_)\n",
    "train_label_final = label_final[0:95]\n",
    "testing_label_final = label_final[95:]"
   ]
  },
  {
   "cell_type": "code",
   "execution_count": 19,
   "metadata": {},
   "outputs": [
    {
     "data": {
      "text/plain": [
       "array([0, 1, 0, 0, 0, 0, 1, 0, 1, 0, 1, 0, 0, 1, 1, 1, 1, 1, 0, 1, 0, 1,\n",
       "       1, 0, 1, 0, 1, 0, 1, 1, 0, 1, 0, 1, 0, 0, 1, 0, 1, 1, 0, 0, 1, 0,\n",
       "       1, 0, 0, 0, 0, 0, 0, 1, 1, 1, 1, 0, 1, 1, 0, 0, 0, 0, 1, 0, 0, 0,\n",
       "       1, 1, 1, 1, 1, 0, 0, 0, 0, 0, 0, 0, 0, 0, 0, 1, 1, 0, 1, 1, 1, 1,\n",
       "       1, 0, 1, 1, 1, 1, 1], dtype=int64)"
      ]
     },
     "execution_count": 19,
     "metadata": {},
     "output_type": "execute_result"
    }
   ],
   "source": [
    "train_label_final"
   ]
  },
  {
   "cell_type": "code",
   "execution_count": 20,
   "metadata": {},
   "outputs": [
    {
     "data": {
      "text/plain": [
       "array([1, 1, 0, 0, 1, 0, 1, 1, 1, 0], dtype=int64)"
      ]
     },
     "execution_count": 20,
     "metadata": {},
     "output_type": "execute_result"
    }
   ],
   "source": [
    "testing_label_final"
   ]
  },
  {
   "cell_type": "markdown",
   "metadata": {},
   "source": [
    "# Model"
   ]
  },
  {
   "cell_type": "code",
   "execution_count": 21,
   "metadata": {},
   "outputs": [
    {
     "name": "stdout",
     "output_type": "stream",
     "text": [
      "Model: \"sequential\"\n",
      "_________________________________________________________________\n",
      "Layer (type)                 Output Shape              Param #   \n",
      "=================================================================\n",
      "embedding (Embedding)        (None, 150, 30)           9000      \n",
      "_________________________________________________________________\n",
      "flatten (Flatten)            (None, 4500)              0         \n",
      "_________________________________________________________________\n",
      "dense (Dense)                (None, 512)               2304512   \n",
      "_________________________________________________________________\n",
      "dropout (Dropout)            (None, 512)               0         \n",
      "_________________________________________________________________\n",
      "dense_1 (Dense)              (None, 128)               65664     \n",
      "_________________________________________________________________\n",
      "dropout_1 (Dropout)          (None, 128)               0         \n",
      "_________________________________________________________________\n",
      "dense_2 (Dense)              (None, 64)                8256      \n",
      "_________________________________________________________________\n",
      "dropout_2 (Dropout)          (None, 64)                0         \n",
      "_________________________________________________________________\n",
      "dense_3 (Dense)              (None, 32)                2080      \n",
      "_________________________________________________________________\n",
      "dropout_3 (Dropout)          (None, 32)                0         \n",
      "_________________________________________________________________\n",
      "dense_4 (Dense)              (None, 8)                 264       \n",
      "_________________________________________________________________\n",
      "dense_5 (Dense)              (None, 1)                 9         \n",
      "=================================================================\n",
      "Total params: 2,389,785\n",
      "Trainable params: 2,389,785\n",
      "Non-trainable params: 0\n",
      "_________________________________________________________________\n"
     ]
    }
   ],
   "source": [
    "from tensorflow.keras import regularizers\n",
    "# Build the model\n",
    "model = tf.keras.Sequential([\n",
    "    tf.keras.layers.Embedding(vocab_size, embed_dim, input_length=max_length),\n",
    "    tf.keras.layers.Flatten(),\n",
    "    tf.keras.layers.Dense(512, activation='relu'),\n",
    "    tf.keras.layers.Dropout(0.05),\n",
    "    tf.keras.layers.Dense(128, activation='relu'),\n",
    "    tf.keras.layers.Dropout(0.05),\n",
    "    tf.keras.layers.Dense(64, activation='relu'),\n",
    "    tf.keras.layers.Dropout(0.05),\n",
    "    tf.keras.layers.Dense(32, activation='relu'),\n",
    "    tf.keras.layers.Dropout(0.05),\n",
    "    tf.keras.layers.Dense(8, activation='relu'),\n",
    "    tf.keras.layers.Dense(1, activation='sigmoid')\n",
    "])\n",
    "\n",
    "\n",
    "# Setup the training parameters\n",
    "model.compile(loss='binary_crossentropy',optimizer='adam',metrics=['accuracy'])\n",
    "\n",
    "# Print the model summary\n",
    "model.summary()"
   ]
  },
  {
   "cell_type": "code",
   "execution_count": 22,
   "metadata": {},
   "outputs": [],
   "source": [
    "class myCallback(tf.keras.callbacks.Callback):\n",
    "  def on_epoch_end(self, epoch, logs={}):\n",
    "    if(logs.get('accuracy')>0.90 and logs.get('val_accuracy') > 0.85):\n",
    "      print(\"\\nReached 95% accuracy and Val_Accuracy 0.80 so cancelling training and validation!\")\n",
    "      self.model.stop_training = True"
   ]
  },
  {
   "cell_type": "code",
   "execution_count": 23,
   "metadata": {
    "scrolled": false
   },
   "outputs": [
    {
     "name": "stdout",
     "output_type": "stream",
     "text": [
      "Epoch 1/100\n",
      "3/3 [==============================] - 1s 101ms/step - loss: 0.7094 - accuracy: 0.4947 - val_loss: 0.7062 - val_accuracy: 0.4000\n",
      "Epoch 2/100\n",
      "3/3 [==============================] - 0s 30ms/step - loss: 0.6975 - accuracy: 0.4105 - val_loss: 0.6924 - val_accuracy: 0.6000\n",
      "Epoch 3/100\n",
      "3/3 [==============================] - 0s 28ms/step - loss: 0.6917 - accuracy: 0.5053 - val_loss: 0.6954 - val_accuracy: 0.4000\n",
      "Epoch 4/100\n",
      "3/3 [==============================] - 0s 28ms/step - loss: 0.6900 - accuracy: 0.5158 - val_loss: 0.7015 - val_accuracy: 0.4000\n",
      "Epoch 5/100\n",
      "3/3 [==============================] - 0s 30ms/step - loss: 0.6948 - accuracy: 0.4842 - val_loss: 0.7048 - val_accuracy: 0.4000\n",
      "Epoch 6/100\n",
      "3/3 [==============================] - 0s 30ms/step - loss: 0.6901 - accuracy: 0.5053 - val_loss: 0.7048 - val_accuracy: 0.4000\n",
      "Epoch 7/100\n",
      "3/3 [==============================] - 0s 32ms/step - loss: 0.6946 - accuracy: 0.5263 - val_loss: 0.7000 - val_accuracy: 0.4000\n",
      "Epoch 8/100\n",
      "3/3 [==============================] - 0s 29ms/step - loss: 0.6903 - accuracy: 0.5579 - val_loss: 0.6931 - val_accuracy: 0.6000\n",
      "Epoch 9/100\n",
      "3/3 [==============================] - 0s 32ms/step - loss: 0.6951 - accuracy: 0.4947 - val_loss: 0.6915 - val_accuracy: 0.6000\n",
      "Epoch 10/100\n",
      "3/3 [==============================] - 0s 31ms/step - loss: 0.6868 - accuracy: 0.6632 - val_loss: 0.6910 - val_accuracy: 0.6000\n",
      "Epoch 11/100\n",
      "3/3 [==============================] - 0s 29ms/step - loss: 0.6852 - accuracy: 0.6737 - val_loss: 0.6923 - val_accuracy: 0.5000\n",
      "Epoch 12/100\n",
      "3/3 [==============================] - 0s 28ms/step - loss: 0.6800 - accuracy: 0.6105 - val_loss: 0.7051 - val_accuracy: 0.4000\n",
      "Epoch 13/100\n",
      "3/3 [==============================] - 0s 29ms/step - loss: 0.6677 - accuracy: 0.5263 - val_loss: 0.7084 - val_accuracy: 0.4000\n",
      "Epoch 14/100\n",
      "3/3 [==============================] - 0s 30ms/step - loss: 0.6603 - accuracy: 0.5368 - val_loss: 0.7041 - val_accuracy: 0.4000\n",
      "Epoch 15/100\n",
      "3/3 [==============================] - 0s 32ms/step - loss: 0.6229 - accuracy: 0.6947 - val_loss: 0.6828 - val_accuracy: 0.5000\n",
      "Epoch 16/100\n",
      "3/3 [==============================] - 0s 29ms/step - loss: 0.5832 - accuracy: 0.7895 - val_loss: 0.7197 - val_accuracy: 0.4000\n",
      "Epoch 17/100\n",
      "3/3 [==============================] - 0s 30ms/step - loss: 0.5428 - accuracy: 0.7368 - val_loss: 0.6796 - val_accuracy: 0.4000\n",
      "Epoch 18/100\n",
      "3/3 [==============================] - 0s 31ms/step - loss: 0.4704 - accuracy: 0.9158 - val_loss: 0.6832 - val_accuracy: 0.4000\n",
      "Epoch 19/100\n",
      "3/3 [==============================] - 0s 31ms/step - loss: 0.3867 - accuracy: 0.9053 - val_loss: 0.6717 - val_accuracy: 0.5000\n",
      "Epoch 20/100\n",
      "3/3 [==============================] - 0s 32ms/step - loss: 0.3037 - accuracy: 0.9579 - val_loss: 0.5992 - val_accuracy: 0.7000\n",
      "Epoch 21/100\n",
      "3/3 [==============================] - 0s 30ms/step - loss: 0.2433 - accuracy: 0.9474 - val_loss: 0.4923 - val_accuracy: 0.7000\n",
      "Epoch 22/100\n",
      "3/3 [==============================] - 0s 34ms/step - loss: 0.1574 - accuracy: 0.9789 - val_loss: 0.4442 - val_accuracy: 0.8000\n",
      "Epoch 23/100\n",
      "3/3 [==============================] - 0s 28ms/step - loss: 0.0579 - accuracy: 1.0000 - val_loss: 0.8146 - val_accuracy: 0.7000\n",
      "Epoch 24/100\n",
      "3/3 [==============================] - 0s 29ms/step - loss: 0.0357 - accuracy: 0.9895 - val_loss: 0.5004 - val_accuracy: 0.8000\n",
      "Epoch 25/100\n",
      "3/3 [==============================] - 0s 30ms/step - loss: 0.0767 - accuracy: 0.9684 - val_loss: 0.3091 - val_accuracy: 0.7000\n",
      "Epoch 26/100\n",
      "3/3 [==============================] - 0s 30ms/step - loss: 0.0283 - accuracy: 0.9895 - val_loss: 1.3624 - val_accuracy: 0.4000\n",
      "Epoch 27/100\n",
      "3/3 [==============================] - 0s 28ms/step - loss: 0.0648 - accuracy: 0.9684 - val_loss: 0.9942 - val_accuracy: 0.7000\n",
      "Epoch 28/100\n",
      "3/3 [==============================] - 0s 30ms/step - loss: 0.0707 - accuracy: 0.9895 - val_loss: 0.3561 - val_accuracy: 0.9000\n",
      "\n",
      "Reached 95% accuracy and Val_Accuracy 0.80 so cancelling training and validation!\n"
     ]
    },
    {
     "data": {
      "text/plain": [
       "<keras.callbacks.History at 0x20399092610>"
      ]
     },
     "execution_count": 23,
     "metadata": {},
     "output_type": "execute_result"
    }
   ],
   "source": [
    "num_epochs = 100\n",
    "callbacks = myCallback()\n",
    "history = model.fit(padded, train_label_final, \n",
    "          epochs = num_epochs,\n",
    "          validation_data = (testing_padded, testing_label_final),\n",
    "          callbacks=callbacks)\n",
    "history"
   ]
  },
  {
   "cell_type": "code",
   "execution_count": 24,
   "metadata": {
    "scrolled": false
   },
   "outputs": [
    {
     "data": {
      "image/png": "[encoded data removed]",
      "text/plain": [
       "<Figure size 432x288 with 1 Axes>"
      ]
     },
     "metadata": {
      "needs_background": "light"
     },
     "output_type": "display_data"
    },
    {
     "data": {
      "image/png": "[encoded data removed]",
      "text/plain": [
       "<Figure size 432x288 with 1 Axes>"
      ]
     },
     "metadata": {
      "needs_background": "light"
     },
     "output_type": "display_data"
    }
   ],
   "source": [
    "def plot_graphs(history, string):\n",
    "  plt.plot(history.history[string])\n",
    "  plt.plot(history.history['val_'+string])\n",
    "  plt.xlabel(\"Epochs\")\n",
    "  plt.ylabel(string)\n",
    "  plt.legend([string, 'val_'+string])\n",
    "  plt.show()\n",
    "\n",
    "# Plot the accuracy and results \n",
    "plot_graphs(history, \"accuracy\")\n",
    "plot_graphs(history, \"loss\")"
   ]
  },
  {
   "cell_type": "code",
   "execution_count": 25,
   "metadata": {},
   "outputs": [
    {
     "name": "stdout",
     "output_type": "stream",
     "text": [
      "Actually testing labels : [1 1 0 0 1 0 1 1 1 0]\n",
      "Result Of Testing Predict : [1 1 0 0 1 1 1 1 1 0]\n",
      "\n",
      "\n",
      " Actually training labels : [0 1 0 0 0 0 1 0 1 0 1 0 0 1 1 1 1 1 0 1 0 1 1 0 1 0 1 0 1 1 0 1 0 1 0 0 1\n",
      " 0 1 1 0 0 1 0 1 0 0 0 0 0 0 1 1 1 1 0 1 1 0 0 0 0 1 0 0 0 1 1 1 1 1 0 0 0\n",
      " 0 0 0 0 0 0 0 1 1 0 1 1 1 1 1 0 1 1 1 1 1]\n",
      "\n",
      "Result of Training Predict : [0 1 0 0 0 0 1 0 1 0 1 0 0 1 1 1 1 1 0 1 0 1 1 0 1 0 1 0 1 1 0 1 0 1 0 0 1\n",
      " 0 1 1 0 0 1 0 1 1 0 0 0 0 0 1 1 1 1 0 1 1 0 0 0 0 1 0 0 0 1 1 1 1 1 0 0 0\n",
      " 0 0 0 0 0 0 0 1 1 0 1 1 1 1 1 0 1 1 1 1 1]\n"
     ]
    }
   ],
   "source": [
    "predict_testing = np.round(model.predict(testing_padded).ravel()).astype(int)\n",
    "predict_training = np.round(model.predict(padded).ravel()).astype(int)\n",
    "\n",
    "print(\"Actually testing labels : {}\".format(testing_label_final))\n",
    "print(\"Result Of Testing Predict : {}\".format(predict_testing))\n",
    "print(\"\\n\\n Actually training labels : {}\".format(train_label_final))\n",
    "print(\"\\nResult of Training Predict : {}\".format(predict_training))"
   ]
  },
  {
   "cell_type": "code",
   "execution_count": 26,
   "metadata": {},
   "outputs": [
    {
     "name": "stdout",
     "output_type": "stream",
     "text": [
      "              precision    recall  f1-score   support\n",
      "\n",
      "           0       1.00      0.98      0.99        48\n",
      "           1       0.98      1.00      0.99        47\n",
      "\n",
      "    accuracy                           0.99        95\n",
      "   macro avg       0.99      0.99      0.99        95\n",
      "weighted avg       0.99      0.99      0.99        95\n",
      "\n"
     ]
    }
   ],
   "source": [
    "#TRAINING REPORT\n",
    "print(classification_report(train_label_final, predict_training))"
   ]
  },
  {
   "cell_type": "code",
   "execution_count": 27,
   "metadata": {},
   "outputs": [
    {
     "name": "stdout",
     "output_type": "stream",
     "text": [
      "              precision    recall  f1-score   support\n",
      "\n",
      "           0       1.00      0.75      0.86         4\n",
      "           1       0.86      1.00      0.92         6\n",
      "\n",
      "    accuracy                           0.90        10\n",
      "   macro avg       0.93      0.88      0.89        10\n",
      "weighted avg       0.91      0.90      0.90        10\n",
      "\n"
     ]
    }
   ],
   "source": [
    "#TESTING REPORT\n",
    "print(classification_report(testing_label_final,predict_testing))"
   ]
  },
  {
   "cell_type": "code",
   "execution_count": 28,
   "metadata": {},
   "outputs": [
    {
     "data": {
      "image/png": "[encoded data removed]",
      "text/plain": [
       "<Figure size 1080x504 with 4 Axes>"
      ]
     },
     "metadata": {
      "needs_background": "light"
     },
     "output_type": "display_data"
    }
   ],
   "source": [
    "figure, axes = plt.subplots(1,2 ,figsize = (15,7) , sharex = True)\n",
    "\n",
    "axes[0].set_title('Training Result')\n",
    "cm_training = confusion_matrix(train_label_final, predict_training)\n",
    "ax = sns.heatmap(cm_training, annot = True, cmap = 'Blues', ax = axes[0])\n",
    "ax.set_xlabel('Actual', fontsize = 13, labelpad = 15)\n",
    "ax.set_ylabel('Predict', fontsize = 13, labelpad = 15)\n",
    "\n",
    "\n",
    "axes[1].set_title('Testing Result')\n",
    "cm_testing = confusion_matrix(testing_label_final, predict_testing)\n",
    "ax = sns.heatmap(cm_testing, annot = True, cmap = 'Blues', ax = axes[1])\n",
    "ax.set_xlabel('Actual', fontsize = 13, labelpad = 15)\n",
    "ax.set_ylabel('Predict', fontsize = 13, labelpad = 15)\n",
    "\n",
    "plt.show()"
   ]
  },
  {
   "cell_type": "code",
   "execution_count": 29,
   "metadata": {},
   "outputs": [
    {
     "name": "stdout",
     "output_type": "stream",
     "text": [
      "Not Urgent\n"
     ]
    }
   ],
   "source": [
    "teks_pred = ['aku tidak dilecehkan oleh pria itu kok, aman saja']\n",
    "token_teks_pred = tokenizer.texts_to_sequences(teks_pred)\n",
    "padd_pred = pad_sequences(token_teks_pred, maxlen = max_length)\n",
    "scores = np.round(model.predict(padd_pred)).astype(int)\n",
    "scores\n",
    "print('Urgent' if scores == 1 else 'Not Urgent')"
   ]
  },
  {
   "cell_type": "code",
   "execution_count": 31,
   "metadata": {},
   "outputs": [
    {
     "name": "stdout",
     "output_type": "stream",
     "text": [
      "Urgent\n"
     ]
    }
   ],
   "source": [
    "teks_pred2 = ['Seorang wanita dilecehkan oleh seseorang pria']\n",
    "token_teks_pred = tokenizer.texts_to_sequences(teks_pred2)\n",
    "padd_pred = pad_sequences(token_teks_pred, maxlen = max_length)\n",
    "scores = np.round(model.predict(padd_pred)).astype(int)\n",
    "scores\n",
    "print('Urgent' if scores == 1 else 'Not Urgent')"
   ]
  },
  {
   "cell_type": "code",
   "execution_count": 33,
   "metadata": {},
   "outputs": [
    {
     "name": "stdout",
     "output_type": "stream",
     "text": [
      "INFO:tensorflow:Assets written to: C:\\Users\\adiba\\AppData\\Local\\Temp\\tmpc7wmip6q\\assets\n"
     ]
    },
    {
     "name": "stderr",
     "output_type": "stream",
     "text": [
      "INFO:tensorflow:Assets written to: C:\\Users\\adiba\\AppData\\Local\\Temp\\tmpc7wmip6q\\assets\n"
     ]
    }
   ],
   "source": [
    "converter = tf.lite.TFLiteConverter.from_keras_model(model)\n",
    "tflite_model = converter.convert()\n",
    "\n",
    "with open('Model_Final.tflite', 'wb') as f:\n",
    "    f.write(tflite_model)"
   ]
  }
 ],
 "metadata": {
  "kernelspec": {
   "display_name": "Python 3",
   "language": "python",
   "name": "python3"
  },
  "language_info": {
   "codemirror_mode": {
    "name": "ipython",
    "version": 3
   },
   "file_extension": ".py",
   "mimetype": "text/x-python",
   "name": "python",
   "nbconvert_exporter": "python",
   "pygments_lexer": "ipython3",
   "version": "3.8.5"
  }
 },
 "nbformat": 4,
 "nbformat_minor": 4
}
